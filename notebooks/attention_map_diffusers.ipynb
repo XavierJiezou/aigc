{
 "cells": [
  {
   "cell_type": "code",
   "execution_count": 1,
   "metadata": {
    "vscode": {
     "languageId": "shellscript"
    }
   },
   "outputs": [
    {
     "name": "stdout",
     "output_type": "stream",
     "text": [
      "Looking in indexes: https://pypi.tuna.tsinghua.edu.cn/simple\n",
      "Collecting attention_map_diffusers\n",
      "  Downloading https://pypi.tuna.tsinghua.edu.cn/packages/e2/05/8e7c490fb61a3f8924e02895b2be9b060707647fe72184e0edab5212ef30/attention_map_diffusers-0.1.5-py3-none-any.whl (22 kB)\n",
      "Requirement already satisfied: diffusers>=0.29.0 in /home/zouxuechao/miniconda3/envs/aigc/lib/python3.11/site-packages (from attention_map_diffusers) (0.31.0)\n",
      "Requirement already satisfied: accelerate in /home/zouxuechao/miniconda3/envs/aigc/lib/python3.11/site-packages (from attention_map_diffusers) (1.2.1)\n",
      "Requirement already satisfied: transformers in /home/zouxuechao/miniconda3/envs/aigc/lib/python3.11/site-packages (from attention_map_diffusers) (4.47.0)\n",
      "Requirement already satisfied: einops in /home/zouxuechao/miniconda3/envs/aigc/lib/python3.11/site-packages (from attention_map_diffusers) (0.8.0)\n",
      "Requirement already satisfied: torchvision in /home/zouxuechao/miniconda3/envs/aigc/lib/python3.11/site-packages (from attention_map_diffusers) (0.20.1+cu124)\n",
      "Requirement already satisfied: protobuf in /home/zouxuechao/miniconda3/envs/aigc/lib/python3.11/site-packages (from attention_map_diffusers) (5.29.2)\n",
      "Collecting sentencepiece (from attention_map_diffusers)\n",
      "  Downloading https://pypi.tuna.tsinghua.edu.cn/packages/fb/12/2f5c8d4764b00033cf1c935b702d3bb878d10be9f0b87f0253495832d85f/sentencepiece-0.2.0-cp311-cp311-manylinux_2_17_x86_64.manylinux2014_x86_64.whl (1.3 MB)\n",
      "\u001b[2K     \u001b[90m━━━━━━━━━━━━━━━━━━━━━━━━━━━━━━━━━━━━━━━━\u001b[0m \u001b[32m1.3/1.3 MB\u001b[0m \u001b[31m5.2 MB/s\u001b[0m eta \u001b[36m0:00:00\u001b[0ma \u001b[36m0:00:01\u001b[0m\n",
      "\u001b[?25hRequirement already satisfied: importlib-metadata in /home/zouxuechao/miniconda3/envs/aigc/lib/python3.11/site-packages (from diffusers>=0.29.0->attention_map_diffusers) (8.5.0)\n",
      "Requirement already satisfied: filelock in /home/zouxuechao/miniconda3/envs/aigc/lib/python3.11/site-packages (from diffusers>=0.29.0->attention_map_diffusers) (3.13.1)\n",
      "Requirement already satisfied: huggingface-hub>=0.23.2 in /home/zouxuechao/miniconda3/envs/aigc/lib/python3.11/site-packages (from diffusers>=0.29.0->attention_map_diffusers) (0.26.5)\n",
      "Requirement already satisfied: numpy in /home/zouxuechao/miniconda3/envs/aigc/lib/python3.11/site-packages (from diffusers>=0.29.0->attention_map_diffusers) (1.26.3)\n",
      "Requirement already satisfied: regex!=2019.12.17 in /home/zouxuechao/miniconda3/envs/aigc/lib/python3.11/site-packages (from diffusers>=0.29.0->attention_map_diffusers) (2024.11.6)\n",
      "Requirement already satisfied: requests in /home/zouxuechao/miniconda3/envs/aigc/lib/python3.11/site-packages (from diffusers>=0.29.0->attention_map_diffusers) (2.32.3)\n",
      "Requirement already satisfied: safetensors>=0.3.1 in /home/zouxuechao/miniconda3/envs/aigc/lib/python3.11/site-packages (from diffusers>=0.29.0->attention_map_diffusers) (0.4.5)\n",
      "Requirement already satisfied: Pillow in /home/zouxuechao/miniconda3/envs/aigc/lib/python3.11/site-packages (from diffusers>=0.29.0->attention_map_diffusers) (10.2.0)\n",
      "Requirement already satisfied: packaging>=20.0 in /home/zouxuechao/miniconda3/envs/aigc/lib/python3.11/site-packages (from accelerate->attention_map_diffusers) (24.2)\n",
      "Requirement already satisfied: psutil in /home/zouxuechao/miniconda3/envs/aigc/lib/python3.11/site-packages (from accelerate->attention_map_diffusers) (6.1.0)\n",
      "Requirement already satisfied: pyyaml in /home/zouxuechao/miniconda3/envs/aigc/lib/python3.11/site-packages (from accelerate->attention_map_diffusers) (6.0.2)\n",
      "Requirement already satisfied: torch>=1.10.0 in /home/zouxuechao/miniconda3/envs/aigc/lib/python3.11/site-packages (from accelerate->attention_map_diffusers) (2.5.1+cu124)\n",
      "Requirement already satisfied: typing-extensions>=4.8.0 in /home/zouxuechao/miniconda3/envs/aigc/lib/python3.11/site-packages (from torch>=1.10.0->accelerate->attention_map_diffusers) (4.9.0)\n",
      "Requirement already satisfied: networkx in /home/zouxuechao/miniconda3/envs/aigc/lib/python3.11/site-packages (from torch>=1.10.0->accelerate->attention_map_diffusers) (3.2.1)\n",
      "Requirement already satisfied: jinja2 in /home/zouxuechao/miniconda3/envs/aigc/lib/python3.11/site-packages (from torch>=1.10.0->accelerate->attention_map_diffusers) (3.1.3)\n",
      "Requirement already satisfied: fsspec in /home/zouxuechao/miniconda3/envs/aigc/lib/python3.11/site-packages (from torch>=1.10.0->accelerate->attention_map_diffusers) (2024.2.0)\n",
      "Requirement already satisfied: nvidia-cuda-nvrtc-cu12==12.4.127 in /home/zouxuechao/miniconda3/envs/aigc/lib/python3.11/site-packages (from torch>=1.10.0->accelerate->attention_map_diffusers) (12.4.127)\n",
      "Requirement already satisfied: nvidia-cuda-runtime-cu12==12.4.127 in /home/zouxuechao/miniconda3/envs/aigc/lib/python3.11/site-packages (from torch>=1.10.0->accelerate->attention_map_diffusers) (12.4.127)\n",
      "Requirement already satisfied: nvidia-cuda-cupti-cu12==12.4.127 in /home/zouxuechao/miniconda3/envs/aigc/lib/python3.11/site-packages (from torch>=1.10.0->accelerate->attention_map_diffusers) (12.4.127)\n",
      "Requirement already satisfied: nvidia-cudnn-cu12==9.1.0.70 in /home/zouxuechao/miniconda3/envs/aigc/lib/python3.11/site-packages (from torch>=1.10.0->accelerate->attention_map_diffusers) (9.1.0.70)\n",
      "Requirement already satisfied: nvidia-cublas-cu12==12.4.5.8 in /home/zouxuechao/miniconda3/envs/aigc/lib/python3.11/site-packages (from torch>=1.10.0->accelerate->attention_map_diffusers) (12.4.5.8)\n",
      "Requirement already satisfied: nvidia-cufft-cu12==11.2.1.3 in /home/zouxuechao/miniconda3/envs/aigc/lib/python3.11/site-packages (from torch>=1.10.0->accelerate->attention_map_diffusers) (11.2.1.3)\n",
      "Requirement already satisfied: nvidia-curand-cu12==10.3.5.147 in /home/zouxuechao/miniconda3/envs/aigc/lib/python3.11/site-packages (from torch>=1.10.0->accelerate->attention_map_diffusers) (10.3.5.147)\n",
      "Requirement already satisfied: nvidia-cusolver-cu12==11.6.1.9 in /home/zouxuechao/miniconda3/envs/aigc/lib/python3.11/site-packages (from torch>=1.10.0->accelerate->attention_map_diffusers) (11.6.1.9)\n",
      "Requirement already satisfied: nvidia-cusparse-cu12==12.3.1.170 in /home/zouxuechao/miniconda3/envs/aigc/lib/python3.11/site-packages (from torch>=1.10.0->accelerate->attention_map_diffusers) (12.3.1.170)\n",
      "Requirement already satisfied: nvidia-nccl-cu12==2.21.5 in /home/zouxuechao/miniconda3/envs/aigc/lib/python3.11/site-packages (from torch>=1.10.0->accelerate->attention_map_diffusers) (2.21.5)\n",
      "Requirement already satisfied: nvidia-nvtx-cu12==12.4.127 in /home/zouxuechao/miniconda3/envs/aigc/lib/python3.11/site-packages (from torch>=1.10.0->accelerate->attention_map_diffusers) (12.4.127)\n",
      "Requirement already satisfied: nvidia-nvjitlink-cu12==12.4.127 in /home/zouxuechao/miniconda3/envs/aigc/lib/python3.11/site-packages (from torch>=1.10.0->accelerate->attention_map_diffusers) (12.4.127)\n",
      "Requirement already satisfied: triton==3.1.0 in /home/zouxuechao/miniconda3/envs/aigc/lib/python3.11/site-packages (from torch>=1.10.0->accelerate->attention_map_diffusers) (3.1.0)\n",
      "Requirement already satisfied: sympy==1.13.1 in /home/zouxuechao/miniconda3/envs/aigc/lib/python3.11/site-packages (from torch>=1.10.0->accelerate->attention_map_diffusers) (1.13.1)\n",
      "Requirement already satisfied: mpmath<1.4,>=1.1.0 in /home/zouxuechao/miniconda3/envs/aigc/lib/python3.11/site-packages (from sympy==1.13.1->torch>=1.10.0->accelerate->attention_map_diffusers) (1.3.0)\n",
      "Requirement already satisfied: tokenizers<0.22,>=0.21 in /home/zouxuechao/miniconda3/envs/aigc/lib/python3.11/site-packages (from transformers->attention_map_diffusers) (0.21.0)\n",
      "Requirement already satisfied: tqdm>=4.27 in /home/zouxuechao/miniconda3/envs/aigc/lib/python3.11/site-packages (from transformers->attention_map_diffusers) (4.67.1)\n",
      "Requirement already satisfied: zipp>=3.20 in /home/zouxuechao/miniconda3/envs/aigc/lib/python3.11/site-packages (from importlib-metadata->diffusers>=0.29.0->attention_map_diffusers) (3.21.0)\n",
      "Requirement already satisfied: charset-normalizer<4,>=2 in /home/zouxuechao/miniconda3/envs/aigc/lib/python3.11/site-packages (from requests->diffusers>=0.29.0->attention_map_diffusers) (3.4.0)\n",
      "Requirement already satisfied: idna<4,>=2.5 in /home/zouxuechao/miniconda3/envs/aigc/lib/python3.11/site-packages (from requests->diffusers>=0.29.0->attention_map_diffusers) (3.10)\n",
      "Requirement already satisfied: urllib3<3,>=1.21.1 in /home/zouxuechao/miniconda3/envs/aigc/lib/python3.11/site-packages (from requests->diffusers>=0.29.0->attention_map_diffusers) (2.2.3)\n",
      "Requirement already satisfied: certifi>=2017.4.17 in /home/zouxuechao/miniconda3/envs/aigc/lib/python3.11/site-packages (from requests->diffusers>=0.29.0->attention_map_diffusers) (2024.12.14)\n",
      "Requirement already satisfied: MarkupSafe>=2.0 in /home/zouxuechao/miniconda3/envs/aigc/lib/python3.11/site-packages (from jinja2->torch>=1.10.0->accelerate->attention_map_diffusers) (2.1.5)\n",
      "Installing collected packages: sentencepiece, attention_map_diffusers\n",
      "Successfully installed attention_map_diffusers-0.1.5 sentencepiece-0.2.0\n"
     ]
    }
   ],
   "source": [
    "!pip install attention_map_diffusers"
   ]
  },
  {
   "cell_type": "code",
   "execution_count": 7,
   "metadata": {},
   "outputs": [
    {
     "data": {
      "application/vnd.jupyter.widget-view+json": {
       "model_id": "16bc1357a4ee438e94e8b7bae97f44fb",
       "version_major": 2,
       "version_minor": 0
      },
      "text/plain": [
       "Loading pipeline components...:   0%|          | 0/7 [00:00<?, ?it/s]"
      ]
     },
     "metadata": {},
     "output_type": "display_data"
    },
    {
     "data": {
      "application/vnd.jupyter.widget-view+json": {
       "model_id": "618a2db123ad41deb6ff3eaac61b38e1",
       "version_major": 2,
       "version_minor": 0
      },
      "text/plain": [
       "  0%|          | 0/15 [00:00<?, ?it/s]"
      ]
     },
     "metadata": {},
     "output_type": "display_data"
    }
   ],
   "source": [
    "import torch\n",
    "from diffusers import DiffusionPipeline\n",
    "from attention_map_diffusers import (\n",
    "    attn_maps,\n",
    "    init_pipeline,\n",
    "    save_attention_maps\n",
    ")\n",
    "\n",
    "\n",
    "pipe = DiffusionPipeline.from_pretrained(\n",
    "    \"../checkpoints/stablev15\",\n",
    "    torch_dtype=torch.float16,\n",
    ")\n",
    "pipe = pipe.to(\"cuda\")\n",
    "\n",
    "##### 1. Replace modules and Register hook #####\n",
    "pipe = init_pipeline(pipe)\n",
    "################################################\n",
    "\n",
    "prompts = [\n",
    "    \"A photo of a puppy wearing a hat.\",\n",
    "]\n",
    "\n",
    "images = pipe(\n",
    "    prompts,\n",
    "    num_inference_steps=15,\n",
    ").images\n",
    "\n",
    "for batch, image in enumerate(images):\n",
    "    image.save(f'{batch}-sd1-5.png')\n",
    "\n",
    "##### 2. Process and Save attention map #####\n",
    "save_attention_maps(attn_maps, pipe.tokenizer, prompts, base_dir='attn_maps', unconditional=True)\n",
    "#############################################\n"
   ]
  }
 ],
 "metadata": {
  "kernelspec": {
   "display_name": "aigc",
   "language": "python",
   "name": "python3"
  },
  "language_info": {
   "codemirror_mode": {
    "name": "ipython",
    "version": 3
   },
   "file_extension": ".py",
   "mimetype": "text/x-python",
   "name": "python",
   "nbconvert_exporter": "python",
   "pygments_lexer": "ipython3",
   "version": "3.11.11"
  }
 },
 "nbformat": 4,
 "nbformat_minor": 2
}
