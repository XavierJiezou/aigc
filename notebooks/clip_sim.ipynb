{
 "cells": [
  {
   "cell_type": "code",
   "execution_count": 12,
   "metadata": {},
   "outputs": [],
   "source": [
    "import torch\n",
    "import clip\n",
    "from PIL import Image\n",
    "import numpy as np\n",
    "device = \"cpu\"\n",
    "model, preprocess = clip.load(\"ViT-B/16\", device=device, download_root=\"../checkpoints/clip\")\n",
    "# model.load_state_dict(torch.load(\"../checkpoints/farl/FaRL-Base-Patch16-LAIONFace20M-ep16.pth\")['state_dict'],strict=False)"
   ]
  },
  {
   "cell_type": "code",
   "execution_count": 16,
   "metadata": {},
   "outputs": [
    {
     "name": "stdout",
     "output_type": "stream",
     "text": [
      "torch.Size([1, 512])\n",
      "torch.Size([3, 512])\n",
      "torch.Size([1, 3])\n",
      "torch.Size([3, 1])\n",
      "Label probs: [[0.96 0.01 0.03]]\n"
     ]
    }
   ],
   "source": [
    "image = preprocess(Image.open(\"../data/mmcelebahq/face/27000.jpg\")).unsqueeze(0).to(device)\n",
    "text = clip.tokenize([\"a face\", \"a dog\", \"a cat\"]).to(device)\n",
    "with torch.no_grad():\n",
    "    image_features = model.encode_image(image)\n",
    "    text_features = model.encode_text(text)\n",
    "    print(image_features.shape)\n",
    "    print(text_features.shape)\n",
    "    logits_per_image, logits_per_text = model(image, text)\n",
    "    print(logits_per_image.shape)\n",
    "    print(logits_per_text.shape)\n",
    "    probs = logits_per_image.softmax(dim=-1).cpu().numpy()\n",
    "print(\"Label probs:\", np.around(probs, 2))"
   ]
  }
 ],
 "metadata": {
  "kernelspec": {
   "display_name": "aigc",
   "language": "python",
   "name": "python3"
  },
  "language_info": {
   "codemirror_mode": {
    "name": "ipython",
    "version": 3
   },
   "file_extension": ".py",
   "mimetype": "text/x-python",
   "name": "python",
   "nbconvert_exporter": "python",
   "pygments_lexer": "ipython3",
   "version": "3.11.11"
  }
 },
 "nbformat": 4,
 "nbformat_minor": 2
}
